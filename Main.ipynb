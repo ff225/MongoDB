{
 "cells": [
  {
   "cell_type": "markdown",
   "metadata": {
    "collapsed": true,
    "pycharm": {
     "name": "#%% md\n"
    }
   },
   "source": [
    "# Main - MongoDB"
   ]
  },
  {
   "cell_type": "markdown",
   "metadata": {},
   "source": [
    "Per questa consegna è necessaria l'installazione di due pacchetti:\n",
    "- pymongo\n",
    "- mongoengine"
   ]
  },
  {
   "cell_type": "markdown",
   "metadata": {
    "pycharm": {
     "name": "#%% md\n"
    }
   },
   "source": [
    "1- Procediamo con l'installazione dei pacchetti:"
   ]
  },
  {
   "cell_type": "code",
   "execution_count": 1,
   "metadata": {
    "pycharm": {
     "name": "#%%\n"
    }
   },
   "outputs": [
    {
     "name": "stdout",
     "output_type": "stream",
     "text": [
      "Requirement already satisfied: pip in /Library/Frameworks/Python.framework/Versions/3.9/lib/python3.9/site-packages (21.1.3)\r\n",
      "Requirement already satisfied: pymongo in /Library/Frameworks/Python.framework/Versions/3.9/lib/python3.9/site-packages (3.11.1)\r\n",
      "Requirement already satisfied: mongoengine in /Library/Frameworks/Python.framework/Versions/3.9/lib/python3.9/site-packages (0.21.0)\r\n",
      "Requirement already satisfied: pymongo<4.0,>=3.4 in /Library/Frameworks/Python.framework/Versions/3.9/lib/python3.9/site-packages (from mongoengine) (3.11.1)\r\n"
     ]
    }
   ],
   "source": [
    "import sys\n",
    "\n",
    "!{sys.executable} -m pip install -U pip\n",
    "!{sys.executable} -m pip install pymongo\n",
    "!{sys.executable} -m pip install mongoengine\n",
    "\n",
    "%run Gestore.ipynb"
   ]
  },
  {
   "cell_type": "markdown",
   "metadata": {
    "pycharm": {
     "name": "#%% md\n"
    }
   },
   "source": [
    "2- Importiamo i pacchetti necessari al corretto funzionamento:"
   ]
  },
  {
   "cell_type": "code",
   "execution_count": 2,
   "metadata": {
    "pycharm": {
     "name": "#%%\n"
    }
   },
   "outputs": [],
   "source": [
    "from pymongo import MongoClient"
   ]
  },
  {
   "cell_type": "markdown",
   "metadata": {
    "pycharm": {
     "name": "#%% md\n"
    }
   },
   "source": [
    "3 - Eseguiamo la funzione main:"
   ]
  },
  {
   "cell_type": "code",
   "execution_count": 3,
   "metadata": {
    "pycharm": {
     "name": "#%%\n"
    }
   },
   "outputs": [
    {
     "name": "stdout",
     "output_type": "stream",
     "text": [
      "Init effettuata\n",
      "['admin', 'config', 'local', 'prova', 'test']\n",
      "Creazione database covid e aggiunta delle collezioni...\n",
      "creazione in corso...\n",
      "DB e collezioni create correttamente\n"
     ]
    }
   ],
   "source": [
    "if __name__ == '__main__':\n",
    "    client = MongoClient('localhost', 27017)\n",
    "    db = client.covid\n",
    "    db_name = 'covid'\n",
    "    gestore = Gestore(client, db)\n",
    "    db_list = gestore.db_list()\n",
    "    if db_name in db_list:\n",
    "        print('Database', db_name, 'presente')\n",
    "    else:\n",
    "        print(\"Creazione database\", db_name, \"e aggiunta delle collezioni...\")\n",
    "        gestore.create_db(db_name)"
   ]
  },
  {
   "cell_type": "markdown",
   "metadata": {
    "pycharm": {
     "name": "#%% md\n"
    }
   },
   "source": [
    "Esempi di query:\n",
    "1- Numero di pazienti maschi positivi nella regione di Seoul"
   ]
  },
  {
   "cell_type": "code",
   "execution_count": 4,
   "metadata": {
    "pycharm": {
     "name": "#%%\n"
    }
   },
   "outputs": [
    {
     "name": "stdout",
     "output_type": "stream",
     "text": [
      "Query:\n",
      " {'sex': 'male', 'region.province': 'Seoul'}\n",
      "Numero di risultati: \n",
      "627\n",
      "-------------------------------------------\n"
     ]
    }
   ],
   "source": [
    "query = {'sex': 'male', 'region.province': 'Seoul'}\n",
    "gestore.find_count(query, \"patient_info\")"
   ]
  },
  {
   "cell_type": "markdown",
   "metadata": {
    "pycharm": {
     "name": "#%% md\n"
    }
   },
   "source": [
    "È stato effettuato un text index sul campo \"infection_case\":\n",
    "2- Recupera i primi 5 documenti dei pazienti di sesso femminile con infection_case: \"contact\" che sono stati dimessi nella provincia di Seoul"
   ]
  },
  {
   "cell_type": "code",
   "execution_count": 5,
   "metadata": {
    "pycharm": {
     "name": "#%%\n"
    }
   },
   "outputs": [
    {
     "name": "stdout",
     "output_type": "stream",
     "text": [
      "Query:\n",
      " {'$and': [{'$text': {'$search': 'inflow'}, 'region.province': 'Seoul', 'state': 'released', 'sex': 'female'}]}\n",
      "Risultati: \n",
      "[{'_id': ObjectId('60f584ec4e8cec9a5338e76a'),\n",
      "  'age': 7,\n",
      "  'date_history': {'confirmed_date': datetime.datetime(2020, 5, 3, 0, 0),\n",
      "                   'released_date': datetime.datetime(2020, 5, 30, 0, 0)},\n",
      "  'infection_case': 'overseas inflow',\n",
      "  'patient_id': '1600000044',\n",
      "  'region': {'city': 'Jung-gu',\n",
      "             'code': 10240,\n",
      "             'elementary_school_count': 12,\n",
      "             'kindergarten_count': 14,\n",
      "             'province': 'Seoul',\n",
      "             'university_count': 2},\n",
      "  'sex': 'female',\n",
      "  'state': 'released'},\n",
      " {'_id': ObjectId('60f584ec4e8cec9a5338e75e'),\n",
      "  'age': 30,\n",
      "  'date_history': {'confirmed_date': datetime.datetime(2020, 5, 12, 0, 0),\n",
      "                   'released_date': datetime.datetime(2020, 5, 16, 0, 0)},\n",
      "  'infection_case': 'overseas inflow',\n",
      "  'patient_id': '1600000032',\n",
      "  'region': {'city': 'Jung-gu',\n",
      "             'code': 10240,\n",
      "             'elementary_school_count': 12,\n",
      "             'kindergarten_count': 14,\n",
      "             'province': 'Seoul',\n",
      "             'university_count': 2},\n",
      "  'sex': 'female',\n",
      "  'state': 'released'},\n",
      " {'_id': ObjectId('60f584ec4e8cec9a5338e75d'),\n",
      "  'age': 37,\n",
      "  'date_history': {'confirmed_date': datetime.datetime(2020, 3, 18, 0, 0),\n",
      "                   'released_date': datetime.datetime(2020, 5, 11, 0, 0)},\n",
      "  'infection_case': 'overseas inflow',\n",
      "  'patient_id': '1600000031',\n",
      "  'region': {'city': 'Jung-gu',\n",
      "             'code': 10240,\n",
      "             'elementary_school_count': 12,\n",
      "             'kindergarten_count': 14,\n",
      "             'province': 'Seoul',\n",
      "             'university_count': 2},\n",
      "  'sex': 'female',\n",
      "  'state': 'released'},\n",
      " {'_id': ObjectId('60f584eb4e8cec9a5338e6ed'),\n",
      "  'age': 19,\n",
      "  'date_history': {'confirmed_date': datetime.datetime(2020, 4, 21, 0, 0),\n",
      "                   'released_date': datetime.datetime(2020, 5, 6, 0, 0)},\n",
      "  'infection_case': 'overseas inflow',\n",
      "  'patient_id': '1500000040',\n",
      "  'region': {'city': 'Jung-gu',\n",
      "             'code': 10240,\n",
      "             'elementary_school_count': 12,\n",
      "             'kindergarten_count': 14,\n",
      "             'province': 'Seoul',\n",
      "             'university_count': 2},\n",
      "  'sex': 'female',\n",
      "  'state': 'released'},\n",
      " {'_id': ObjectId('60f584ea4e8cec9a5338e5a3'),\n",
      "  'age': 17,\n",
      "  'date_history': {'confirmed_date': datetime.datetime(2020, 3, 28, 0, 0),\n",
      "                   'released_date': datetime.datetime(2020, 4, 15, 0, 0)},\n",
      "  'infection_case': 'overseas inflow',\n",
      "  'patient_id': '1400000053',\n",
      "  'region': {'city': 'Jung-gu',\n",
      "             'code': 10240,\n",
      "             'elementary_school_count': 12,\n",
      "             'kindergarten_count': 14,\n",
      "             'province': 'Seoul',\n",
      "             'university_count': 2},\n",
      "  'sex': 'female',\n",
      "  'state': 'released'}]\n",
      "-------------------------------------------\n"
     ]
    }
   ],
   "source": [
    "query = {'$and': [{'$text': {'$search': 'inflow'}, 'region.province':'Seoul', 'state': 'released', 'sex': 'female'}]}\n",
    "\n",
    "gestore.findDb(query, \"patient_info\", False, 5)"
   ]
  },
  {
   "cell_type": "markdown",
   "metadata": {},
   "source": [
    "3- Recupera l'età media dei contagiati per provincia e ordina in senso crescente"
   ]
  },
  {
   "cell_type": "code",
   "execution_count": 6,
   "metadata": {
    "pycharm": {
     "name": "#%%\n"
    }
   },
   "outputs": [
    {
     "name": "stdout",
     "output_type": "stream",
     "text": [
      "Query:\n",
      " [{'$match': {'region.province': {'$exists': True}}}, {'$group': {'_id': '$region.province', 'avgAge': {'$avg': '$age'}}}, {'$project': {'roundedAge': {'$round': ['$avgAge', 2]}}}, {'$sort': {'roundedAge': 1}}]\n",
      "Risultati: \n",
      "[{'_id': 'Ulsan', 'roundedAge': 27.5},\n",
      " {'_id': 'Jeju-do', 'roundedAge': 44.5},\n",
      " {'_id': 'Daegu', 'roundedAge': 46.41},\n",
      " {'_id': 'Daejeon', 'roundedAge': 47.02},\n",
      " {'_id': 'Gangwon-do', 'roundedAge': 47.4},\n",
      " {'_id': 'Gyeongsangnam-do', 'roundedAge': 48.45},\n",
      " {'_id': 'Seoul', 'roundedAge': 48.95},\n",
      " {'_id': 'Gyeonggi-do', 'roundedAge': 49.08},\n",
      " {'_id': 'Chungcheongnam-do', 'roundedAge': 49.82},\n",
      " {'_id': 'Jeollabuk-do', 'roundedAge': 49.89},\n",
      " {'_id': 'Incheon', 'roundedAge': 50.33},\n",
      " {'_id': 'Sejong', 'roundedAge': 50.48},\n",
      " {'_id': 'Busan', 'roundedAge': 50.51},\n",
      " {'_id': 'Gyeongsangbuk-do', 'roundedAge': 50.62},\n",
      " {'_id': 'Chungcheongbuk-do', 'roundedAge': 54.3},\n",
      " {'_id': 'Jeollanam-do', 'roundedAge': 55.14}]\n",
      "-------------------------------------------\n"
     ]
    }
   ],
   "source": [
    "pipeline = [\n",
    "    {'$match': {\"region.province\": {'$exists':True}}},\n",
    "    {'$group': {'_id': \"$region.province\", 'avgAge': {'$avg': \"$age\"}}},\n",
    "    {'$project': {'roundedAge' : {'$round': [\"$avgAge\", 2]}}},\n",
    "    {'$sort': {'roundedAge': 1}}\n",
    "]\n",
    "\n",
    "gestore.db_aggregate('patient_info', pipeline)"
   ]
  },
  {
   "cell_type": "markdown",
   "metadata": {},
   "source": [
    "4- Recupera tutte le persone che hanno contratto il virus e sono state positive per due settimane\n",
    "   prima di essere dimesse."
   ]
  },
  {
   "cell_type": "code",
   "execution_count": 7,
   "metadata": {
    "pycharm": {
     "name": "#%%\n"
    }
   },
   "outputs": [
    {
     "name": "stdout",
     "output_type": "stream",
     "text": [
      "Query:\n",
      " [{'$match': {'date_history.confirmed_date': {'$exists': True}, 'date_history.released_date': {'$exists': True}}}, {'$project': {'sex': 1, 'age': 1, 'region.province': 1, 'region.city': 1, 'date_history.confirmed_date': 1, 'date_history.released_date': 1, 'state': 1, 'eq': {'$cond': [{'$eq': [{'$add': ['$date_history.confirmed_date', 1209600000]}, '$date_history.released_date']}, 1, 0]}}}, {'$match': {'eq': 1}}]\n",
      "Risultati: \n",
      "[{'_id': ObjectId('60f584e54e8cec9a5338df1f'),\n",
      "  'age': 72,\n",
      "  'date_history': {'confirmed_date': datetime.datetime(2020, 2, 26, 0, 0),\n",
      "                   'released_date': datetime.datetime(2020, 3, 11, 0, 0)},\n",
      "  'eq': 1,\n",
      "  'region': {'city': 'Jongno-gu', 'province': 'Seoul'},\n",
      "  'sex': 'female',\n",
      "  'state': 'released'},\n",
      " {'_id': ObjectId('60f584e54e8cec9a5338df31'),\n",
      "  'age': 42,\n",
      "  'date_history': {'confirmed_date': datetime.datetime(2020, 2, 26, 0, 0),\n",
      "                   'released_date': datetime.datetime(2020, 3, 11, 0, 0)},\n",
      "  'eq': 1,\n",
      "  'region': {'city': 'Gangnam-gu', 'province': 'Seoul'},\n",
      "  'sex': 'female',\n",
      "  'state': 'released'},\n",
      " {'_id': ObjectId('60f584e54e8cec9a5338df43'),\n",
      "  'age': 88,\n",
      "  'date_history': {'confirmed_date': datetime.datetime(2020, 2, 29, 0, 0),\n",
      "                   'released_date': datetime.datetime(2020, 3, 14, 0, 0)},\n",
      "  'eq': 1,\n",
      "  'region': {'city': 'Gangnam-gu', 'province': 'Seoul'},\n",
      "  'sex': 'female',\n",
      "  'state': 'released'},\n",
      " {'_id': ObjectId('60f584ea4e8cec9a5338e5a9'),\n",
      "  'age': 29,\n",
      "  'date_history': {'confirmed_date': datetime.datetime(2020, 3, 28, 0, 0),\n",
      "                   'released_date': datetime.datetime(2020, 4, 11, 0, 0)},\n",
      "  'eq': 1,\n",
      "  'region': {'city': 'Bupyeong-gu', 'province': 'Incheon'},\n",
      "  'sex': 'male',\n",
      "  'state': 'released'},\n",
      " {'_id': ObjectId('60f584ea4e8cec9a5338e5b4'),\n",
      "  'age': 26,\n",
      "  'date_history': {'confirmed_date': datetime.datetime(2020, 3, 31, 0, 0),\n",
      "                   'released_date': datetime.datetime(2020, 4, 14, 0, 0)},\n",
      "  'eq': 1,\n",
      "  'region': {'city': 'Yeonsu-gu', 'province': 'Incheon'},\n",
      "  'sex': 'male',\n",
      "  'state': 'released'},\n",
      " {'_id': ObjectId('60f584eb4e8cec9a5338e5c4'),\n",
      "  'age': 67,\n",
      "  'date_history': {'confirmed_date': datetime.datetime(2020, 4, 10, 0, 0),\n",
      "                   'released_date': datetime.datetime(2020, 4, 24, 0, 0)},\n",
      "  'eq': 1,\n",
      "  'region': {'city': 'Ganghwa-gun', 'province': 'Incheon'},\n",
      "  'sex': 'male',\n",
      "  'state': 'released'},\n",
      " {'_id': ObjectId('60f584eb4e8cec9a5338e6db'),\n",
      "  'age': 79,\n",
      "  'date_history': {'confirmed_date': datetime.datetime(2020, 3, 12, 0, 0),\n",
      "                   'released_date': datetime.datetime(2020, 3, 26, 0, 0)},\n",
      "  'eq': 1,\n",
      "  'region': {'city': 'Yuseong-gu', 'province': 'Daejeon'},\n",
      "  'sex': 'female',\n",
      "  'state': 'released'},\n",
      " {'_id': ObjectId('60f584ec4e8cec9a5338e777'),\n",
      "  'age': 94,\n",
      "  'date_history': {'confirmed_date': datetime.datetime(2020, 4, 7, 0, 0),\n",
      "                   'released_date': datetime.datetime(2020, 4, 21, 0, 0)},\n",
      "  'eq': 1,\n",
      "  'region': {'city': 'Sejong', 'province': 'Sejong'},\n",
      "  'sex': 'male',\n",
      "  'state': 'released'},\n",
      " {'_id': ObjectId('60f584ec4e8cec9a5338e7d7'),\n",
      "  'age': 23,\n",
      "  'date_history': {'confirmed_date': datetime.datetime(2020, 2, 26, 0, 0),\n",
      "                   'released_date': datetime.datetime(2020, 3, 11, 0, 0)},\n",
      "  'eq': 1,\n",
      "  'region': {'city': 'Icheon-si', 'province': 'Gyeonggi-do'},\n",
      "  'sex': 'male',\n",
      "  'state': 'released'},\n",
      " {'_id': ObjectId('60f584ec4e8cec9a5338e7df'),\n",
      "  'age': 38,\n",
      "  'date_history': {'confirmed_date': datetime.datetime(2020, 2, 27, 0, 0),\n",
      "                   'released_date': datetime.datetime(2020, 3, 12, 0, 0)},\n",
      "  'eq': 1,\n",
      "  'region': {'city': 'Gwacheon-si', 'province': 'Gyeonggi-do'},\n",
      "  'sex': 'male',\n",
      "  'state': 'released'},\n",
      " {'_id': ObjectId('60f584ec4e8cec9a5338e7e9'),\n",
      "  'age': 82,\n",
      "  'date_history': {'confirmed_date': datetime.datetime(2020, 2, 28, 0, 0),\n",
      "                   'released_date': datetime.datetime(2020, 3, 13, 0, 0)},\n",
      "  'eq': 1,\n",
      "  'region': {'city': 'Icheon-si', 'province': 'Gyeonggi-do'},\n",
      "  'sex': 'male',\n",
      "  'state': 'released'},\n",
      " {'_id': ObjectId('60f584f04e8cec9a5338ec8a'),\n",
      "  'age': 8,\n",
      "  'date_history': {'confirmed_date': datetime.datetime(2020, 4, 5, 0, 0),\n",
      "                   'released_date': datetime.datetime(2020, 4, 19, 0, 0)},\n",
      "  'eq': 1,\n",
      "  'region': {'city': 'Chuncheon-si', 'province': 'Gangwon-do'},\n",
      "  'sex': 'male',\n",
      "  'state': 'released'},\n",
      " {'_id': ObjectId('60f584f04e8cec9a5338ec9f'),\n",
      "  'age': 2,\n",
      "  'date_history': {'confirmed_date': datetime.datetime(2020, 2, 22, 0, 0),\n",
      "                   'released_date': datetime.datetime(2020, 3, 7, 0, 0)},\n",
      "  'eq': 1,\n",
      "  'region': {'city': 'Cheongju-si', 'province': 'Chungcheongbuk-do'},\n",
      "  'sex': 'female',\n",
      "  'state': 'released'},\n",
      " {'_id': ObjectId('60f584f14e8cec9a5338ecbf'),\n",
      "  'age': 14,\n",
      "  'date_history': {'confirmed_date': datetime.datetime(2020, 3, 20, 0, 0),\n",
      "                   'released_date': datetime.datetime(2020, 4, 3, 0, 0)},\n",
      "  'eq': 1,\n",
      "  'region': {'city': 'Chungju-si', 'province': 'Chungcheongbuk-do'},\n",
      "  'sex': 'male',\n",
      "  'state': 'released'},\n",
      " {'_id': ObjectId('60f584f14e8cec9a5338ed24'),\n",
      "  'age': 17,\n",
      "  'date_history': {'confirmed_date': datetime.datetime(2020, 3, 2, 0, 0),\n",
      "                   'released_date': datetime.datetime(2020, 3, 16, 0, 0)},\n",
      "  'eq': 1,\n",
      "  'region': {'city': 'Cheonan-si', 'province': 'Chungcheongnam-do'},\n",
      "  'sex': 'female',\n",
      "  'state': 'released'},\n",
      " {'_id': ObjectId('60f584f24e8cec9a5338ed3f'),\n",
      "  'age': 57,\n",
      "  'date_history': {'confirmed_date': datetime.datetime(2020, 3, 10, 0, 0),\n",
      "                   'released_date': datetime.datetime(2020, 3, 24, 0, 0)},\n",
      "  'eq': 1,\n",
      "  'region': {'city': 'Cheonan-si', 'province': 'Chungcheongnam-do'},\n",
      "  'sex': 'female',\n",
      "  'state': 'released'},\n",
      " {'_id': ObjectId('60f584f24e8cec9a5338ed4e'),\n",
      "  'age': 99,\n",
      "  'date_history': {'confirmed_date': datetime.datetime(2020, 3, 24, 0, 0),\n",
      "                   'released_date': datetime.datetime(2020, 4, 7, 0, 0)},\n",
      "  'eq': 1,\n",
      "  'region': {'city': 'Buyeo-gun', 'province': 'Chungcheongnam-do'},\n",
      "  'sex': 'female',\n",
      "  'state': 'released'},\n",
      " {'_id': ObjectId('60f584f24e8cec9a5338ed63'),\n",
      "  'age': 60,\n",
      "  'date_history': {'confirmed_date': datetime.datetime(2020, 4, 26, 0, 0),\n",
      "                   'released_date': datetime.datetime(2020, 5, 10, 0, 0)},\n",
      "  'eq': 1,\n",
      "  'region': {'city': 'Nonsan-si', 'province': 'Chungcheongnam-do'},\n",
      "  'sex': 'male',\n",
      "  'state': 'released'},\n",
      " {'_id': ObjectId('60f584f24e8cec9a5338edbc'),\n",
      "  'age': 45,\n",
      "  'date_history': {'confirmed_date': datetime.datetime(2020, 2, 21, 0, 0),\n",
      "                   'released_date': datetime.datetime(2020, 3, 6, 0, 0)},\n",
      "  'eq': 1,\n",
      "  'region': {'city': 'Gyeongsan-si', 'province': 'Gyeongsangbuk-do'},\n",
      "  'sex': 'female',\n",
      "  'state': 'released'},\n",
      " {'_id': ObjectId('60f584f24e8cec9a5338eddb'),\n",
      "  'age': 54,\n",
      "  'date_history': {'confirmed_date': datetime.datetime(2020, 2, 25, 0, 0),\n",
      "                   'released_date': datetime.datetime(2020, 3, 10, 0, 0)},\n",
      "  'eq': 1,\n",
      "  'region': {'city': 'Gyeongsan-si', 'province': 'Gyeongsangbuk-do'},\n",
      "  'sex': 'female',\n",
      "  'state': 'released'},\n",
      " {'_id': ObjectId('60f584f24e8cec9a5338edf9'),\n",
      "  'age': 95,\n",
      "  'date_history': {'confirmed_date': datetime.datetime(2020, 2, 26, 0, 0),\n",
      "                   'released_date': datetime.datetime(2020, 3, 11, 0, 0)},\n",
      "  'eq': 1,\n",
      "  'region': {'city': 'Gyeongsan-si', 'province': 'Gyeongsangbuk-do'},\n",
      "  'sex': 'male',\n",
      "  'state': 'released'},\n",
      " {'_id': ObjectId('60f584f34e8cec9a5338ee3a'),\n",
      "  'age': 70,\n",
      "  'date_history': {'confirmed_date': datetime.datetime(2020, 2, 29, 0, 0),\n",
      "                   'released_date': datetime.datetime(2020, 3, 14, 0, 0)},\n",
      "  'eq': 1,\n",
      "  'region': {'city': 'Gyeongsan-si', 'province': 'Gyeongsangbuk-do'},\n",
      "  'sex': 'female',\n",
      "  'state': 'released'},\n",
      " {'_id': ObjectId('60f584f34e8cec9a5338ee43'),\n",
      "  'age': 29,\n",
      "  'date_history': {'confirmed_date': datetime.datetime(2020, 3, 1, 0, 0),\n",
      "                   'released_date': datetime.datetime(2020, 3, 15, 0, 0)},\n",
      "  'eq': 1,\n",
      "  'region': {'city': 'Gyeongsan-si', 'province': 'Gyeongsangbuk-do'},\n",
      "  'sex': 'male',\n",
      "  'state': 'released'},\n",
      " {'_id': ObjectId('60f584f34e8cec9a5338ee7a'),\n",
      "  'age': 80,\n",
      "  'date_history': {'confirmed_date': datetime.datetime(2020, 3, 2, 0, 0),\n",
      "                   'released_date': datetime.datetime(2020, 3, 16, 0, 0)},\n",
      "  'eq': 1,\n",
      "  'region': {'city': 'Gyeongsan-si', 'province': 'Gyeongsangbuk-do'},\n",
      "  'sex': 'male',\n",
      "  'state': 'released'},\n",
      " {'_id': ObjectId('60f584f44e8cec9a5338ef29'),\n",
      "  'age': 42,\n",
      "  'date_history': {'confirmed_date': datetime.datetime(2020, 3, 5, 0, 0),\n",
      "                   'released_date': datetime.datetime(2020, 3, 19, 0, 0)},\n",
      "  'eq': 1,\n",
      "  'region': {'city': 'Gyeongsan-si', 'province': 'Gyeongsangbuk-do'},\n",
      "  'sex': 'female',\n",
      "  'state': 'released'},\n",
      " {'_id': ObjectId('60f584f44e8cec9a5338ef51'),\n",
      "  'age': 90,\n",
      "  'date_history': {'confirmed_date': datetime.datetime(2020, 3, 6, 0, 0),\n",
      "                   'released_date': datetime.datetime(2020, 3, 20, 0, 0)},\n",
      "  'eq': 1,\n",
      "  'region': {'city': 'Gyeongsan-si', 'province': 'Gyeongsangbuk-do'},\n",
      "  'sex': 'male',\n",
      "  'state': 'released'},\n",
      " {'_id': ObjectId('60f584f44e8cec9a5338ef7a'),\n",
      "  'age': 99,\n",
      "  'date_history': {'confirmed_date': datetime.datetime(2020, 3, 7, 0, 0),\n",
      "                   'released_date': datetime.datetime(2020, 3, 21, 0, 0)},\n",
      "  'eq': 1,\n",
      "  'region': {'city': 'Gyeongsan-si', 'province': 'Gyeongsangbuk-do'},\n",
      "  'sex': 'female',\n",
      "  'state': 'released'},\n",
      " {'_id': ObjectId('60f584f44e8cec9a5338efba'),\n",
      "  'age': 30,\n",
      "  'date_history': {'confirmed_date': datetime.datetime(2020, 3, 15, 0, 0),\n",
      "                   'released_date': datetime.datetime(2020, 3, 29, 0, 0)},\n",
      "  'eq': 1,\n",
      "  'region': {'city': 'Gyeongsan-si', 'province': 'Gyeongsangbuk-do'},\n",
      "  'sex': 'female',\n",
      "  'state': 'released'},\n",
      " {'_id': ObjectId('60f584f54e8cec9a5338efd6'),\n",
      "  'age': 72,\n",
      "  'date_history': {'confirmed_date': datetime.datetime(2020, 3, 20, 0, 0),\n",
      "                   'released_date': datetime.datetime(2020, 4, 3, 0, 0)},\n",
      "  'eq': 1,\n",
      "  'region': {'city': 'Gyeongsan-si', 'province': 'Gyeongsangbuk-do'},\n",
      "  'sex': 'male',\n",
      "  'state': 'released'},\n",
      " {'_id': ObjectId('60f584f64e8cec9a5338f01e'),\n",
      "  'age': 52,\n",
      "  'date_history': {'confirmed_date': datetime.datetime(2020, 4, 2, 0, 0),\n",
      "                   'released_date': datetime.datetime(2020, 4, 16, 0, 0)},\n",
      "  'eq': 1,\n",
      "  'region': {'city': 'Gyeongsan-si', 'province': 'Gyeongsangbuk-do'},\n",
      "  'sex': 'male',\n",
      "  'state': 'released'},\n",
      " {'_id': ObjectId('60f584f64e8cec9a5338f029'),\n",
      "  'age': 99,\n",
      "  'date_history': {'confirmed_date': datetime.datetime(2020, 5, 2, 0, 0),\n",
      "                   'released_date': datetime.datetime(2020, 5, 16, 0, 0)},\n",
      "  'eq': 1,\n",
      "  'region': {'city': 'Gyeongsan-si', 'province': 'Gyeongsangbuk-do'},\n",
      "  'sex': 'male',\n",
      "  'state': 'released'},\n",
      " {'_id': ObjectId('60f584f64e8cec9a5338f0a9'),\n",
      "  'age': 71,\n",
      "  'date_history': {'confirmed_date': datetime.datetime(2020, 3, 19, 0, 0),\n",
      "                   'released_date': datetime.datetime(2020, 4, 2, 0, 0)},\n",
      "  'eq': 1,\n",
      "  'region': {'city': 'Gumi-si', 'province': 'Gyeongsangbuk-do'},\n",
      "  'sex': 'female',\n",
      "  'state': 'released'},\n",
      " {'_id': ObjectId('60f584f64e8cec9a5338f0b2'),\n",
      "  'age': 22,\n",
      "  'date_history': {'confirmed_date': datetime.datetime(2020, 5, 21, 0, 0),\n",
      "                   'released_date': datetime.datetime(2020, 6, 4, 0, 0)},\n",
      "  'eq': 1,\n",
      "  'region': {'city': 'Gumi-si', 'province': 'Gyeongsangbuk-do'},\n",
      "  'sex': 'female',\n",
      "  'state': 'released'},\n",
      " {'_id': ObjectId('60f584f64e8cec9a5338f0bb'),\n",
      "  'age': 55,\n",
      "  'date_history': {'confirmed_date': datetime.datetime(2020, 6, 5, 0, 0),\n",
      "                   'released_date': datetime.datetime(2020, 6, 19, 0, 0)},\n",
      "  'eq': 1,\n",
      "  'region': {'city': 'Gumi-si', 'province': 'Gyeongsangbuk-do'},\n",
      "  'sex': 'male',\n",
      "  'state': 'released'},\n",
      " {'_id': ObjectId('60f584f64e8cec9a5338f0d6'),\n",
      "  'age': 10,\n",
      "  'date_history': {'confirmed_date': datetime.datetime(2020, 3, 8, 0, 0),\n",
      "                   'released_date': datetime.datetime(2020, 3, 22, 0, 0)},\n",
      "  'eq': 1,\n",
      "  'region': {'city': 'Gimcheon-si', 'province': 'Gyeongsangbuk-do'},\n",
      "  'sex': 'male',\n",
      "  'state': 'released'},\n",
      " {'_id': ObjectId('60f584f74e8cec9a5338f18a'),\n",
      "  'age': 74,\n",
      "  'date_history': {'confirmed_date': datetime.datetime(2020, 2, 18, 0, 0),\n",
      "                   'released_date': datetime.datetime(2020, 3, 3, 0, 0)},\n",
      "  'eq': 1,\n",
      "  'region': {'city': 'Yeongcheon-si', 'province': 'Gyeongsangbuk-do'},\n",
      "  'sex': 'male',\n",
      "  'state': 'released'},\n",
      " {'_id': ObjectId('60f584f84e8cec9a5338f27e'),\n",
      "  'age': 44,\n",
      "  'date_history': {'confirmed_date': datetime.datetime(2020, 3, 2, 0, 0),\n",
      "                   'released_date': datetime.datetime(2020, 3, 16, 0, 0)},\n",
      "  'eq': 1,\n",
      "  'region': {'city': 'Pohang-si', 'province': 'Gyeongsangbuk-do'},\n",
      "  'sex': 'female',\n",
      "  'state': 'released'},\n",
      " {'_id': ObjectId('60f584f84e8cec9a5338f284'),\n",
      "  'age': 51,\n",
      "  'date_history': {'confirmed_date': datetime.datetime(2020, 3, 5, 0, 0),\n",
      "                   'released_date': datetime.datetime(2020, 3, 19, 0, 0)},\n",
      "  'eq': 1,\n",
      "  'region': {'city': 'Pohang-si', 'province': 'Gyeongsangbuk-do'},\n",
      "  'sex': 'male',\n",
      "  'state': 'released'},\n",
      " {'_id': ObjectId('60f584f84e8cec9a5338f2e2'),\n",
      "  'age': 54,\n",
      "  'date_history': {'confirmed_date': datetime.datetime(2020, 3, 5, 0, 0),\n",
      "                   'released_date': datetime.datetime(2020, 3, 19, 0, 0)},\n",
      "  'eq': 1,\n",
      "  'region': {'city': 'Changwon-si', 'province': 'Gyeongsangnam-do'},\n",
      "  'sex': 'male',\n",
      "  'state': 'released'},\n",
      " {'_id': ObjectId('60f584f94e8cec9a5338f31e'),\n",
      "  'age': 3,\n",
      "  'date_history': {'confirmed_date': datetime.datetime(2020, 2, 22, 0, 0),\n",
      "                   'released_date': datetime.datetime(2020, 3, 7, 0, 0)},\n",
      "  'eq': 1,\n",
      "  'region': {'city': 'Jeju-do', 'province': 'Jeju-do'},\n",
      "  'sex': 'male',\n",
      "  'state': 'released'},\n",
      " {'_id': ObjectId('60f584f94e8cec9a5338f32b'),\n",
      "  'age': 6,\n",
      "  'date_history': {'confirmed_date': datetime.datetime(2020, 5, 30, 0, 0),\n",
      "                   'released_date': datetime.datetime(2020, 6, 13, 0, 0)},\n",
      "  'eq': 1,\n",
      "  'region': {'city': 'Jeju-do', 'province': 'Jeju-do'},\n",
      "  'sex': 'female',\n",
      "  'state': 'released'}]\n",
      "-------------------------------------------\n"
     ]
    }
   ],
   "source": [
    "pipeline = [\n",
    "    {'$match': {\"date_history.confirmed_date\":{'$exists':True}, \"date_history.released_date\":{'$exists':True}}},\n",
    "    {'$project':\n",
    "        {'sex':1, 'age':1, 'region.province':1, 'region.city':1, \"date_history.confirmed_date\":1, \"date_history.released_date\":1, 'state':1,\n",
    "            'eq': { '$cond': [ { '$eq': [{'$add': [\"$date_history.confirmed_date\", 1000 * 86400 * 14]}, '$date_history.released_date']}, 1, 0 ] }}},\n",
    "    {'$match': {'eq':1}}\n",
    "\n",
    "]\n",
    "gestore.db_aggregate('patient_info', pipeline)"
   ]
  },
  {
   "cell_type": "markdown",
   "metadata": {},
   "source": [
    "5- Conta le persone che sono morte dopo aver contratto il virus in gruppo e ordina in senso decrescente di morti."
   ]
  },
  {
   "cell_type": "code",
   "execution_count": 8,
   "metadata": {
    "pycharm": {
     "name": "#%%\n"
    }
   },
   "outputs": [
    {
     "name": "stdout",
     "output_type": "stream",
     "text": [
      "Query:\n",
      " [{'$match': {'infection_case': {'$exists': True}, 'group': True}}, {'$group': {'_id': '$infection_case'}}, {'$lookup': {'from': 'patient_info', 'localField': '_id', 'foreignField': 'infection_case', 'as': 'patient'}}, {'$unwind': '$patient'}, {'$match': {'patient.state': 'deceased'}}, {'$group': {'_id': '$patient.infection_case', 'n_dead': {'$sum': 1}}}, {'$sort': {'n_dead': -1}}]\n",
      "Risultati: \n",
      "[{'_id': 'Cheongdo Daenam Hospital', 'n_dead': 7},\n",
      " {'_id': 'Shincheonji Church', 'n_dead': 2},\n",
      " {'_id': 'Guro-gu Call Center', 'n_dead': 1},\n",
      " {'_id': 'Day Care Center', 'n_dead': 1},\n",
      " {'_id': 'Bonghwa Pureun Nursing Home', 'n_dead': 1},\n",
      " {'_id': 'Gyeongsan Jeil Silver Town', 'n_dead': 1}]\n",
      "-------------------------------------------\n"
     ]
    }
   ],
   "source": [
    "pipeline = [\n",
    "{'$match': {'infection_case':{'$exists':True}, 'group': True}},\n",
    "{'$group': {'_id':'$infection_case'}},\n",
    "{'$lookup': {\n",
    "       'from': 'patient_info',\n",
    "       'localField': '_id',\n",
    "       'foreignField': 'infection_case',\n",
    "       'as': 'patient'\n",
    "     }\n",
    " },\n",
    "  {'$unwind': \"$patient\"},\n",
    "  {'$match': {\"patient.state\": \"deceased\"}},\n",
    "  {'$group': {'_id':\"$patient.infection_case\", 'n_dead':{'$sum':1}}},\n",
    "  {'$sort': {'n_dead':-1}}\n",
    "]\n",
    "\n",
    "gestore.db_aggregate('case', pipeline)"
   ]
  },
  {
   "cell_type": "markdown",
   "metadata": {
    "pycharm": {
     "name": "#%% md\n"
    }
   },
   "source": [
    "Metodo per eliminare un DB"
   ]
  },
  {
   "cell_type": "code",
   "execution_count": 9,
   "metadata": {
    "pycharm": {
     "name": "#%%\n"
    }
   },
   "outputs": [
    {
     "name": "stdout",
     "output_type": "stream",
     "text": [
      "['admin', 'config', 'covid', 'local', 'prova', 'test']\n",
      "['admin', 'config', 'local', 'prova', 'test']\n",
      "Database eliminato correttamente\n"
     ]
    }
   ],
   "source": [
    "gestore.delete_db(db_name)\n",
    "\n"
   ]
  }
 ],
 "metadata": {
  "kernelspec": {
   "display_name": "Python 3",
   "language": "python",
   "name": "python3"
  },
  "language_info": {
   "codemirror_mode": {
    "name": "ipython",
    "version": 3
   },
   "file_extension": ".py",
   "mimetype": "text/x-python",
   "name": "python",
   "nbconvert_exporter": "python",
   "pygments_lexer": "ipython3",
   "version": "3.9.0"
  }
 },
 "nbformat": 4,
 "nbformat_minor": 1
}