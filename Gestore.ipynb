{
 "cells": [
  {
   "cell_type": "markdown",
   "metadata": {
    "pycharm": {
     "name": "#%% md\n"
    }
   },
   "source": [
    "# Gestore - MongoDB"
   ]
  },
  {
   "cell_type": "markdown",
   "metadata": {
    "pycharm": {
     "name": "#%% md\n"
    }
   },
   "source": [
    "Definizione della classe Gestore che si occupera' di definire le varie operazioni che serviranno ad interagire col db.\n",
    "\n",
    "Nella init sono passati i parametri da inizializzare:\n",
    "- client\n",
    "- db"
   ]
  },
  {
   "cell_type": "code",
   "execution_count": 1,
   "metadata": {},
   "outputs": [],
   "source": [
    "from pprint import pprint"
   ]
  },
  {
   "cell_type": "code",
   "execution_count": 2,
   "metadata": {
    "pycharm": {
     "name": "#%%\n"
    }
   },
   "outputs": [],
   "source": [
    "\n",
    "class Gestore:\n",
    "    def __init__(self, client, db):\n",
    "        # client e db\n",
    "        self.client = client\n",
    "        self.db = db\n",
    "        print('Init effettuata')"
   ]
  },
  {
   "cell_type": "markdown",
   "metadata": {
    "pycharm": {
     "name": "#%% md\n"
    }
   },
   "source": [
    "Metodo che si occupa di stampare i database presenti nel nostro sistema."
   ]
  },
  {
   "cell_type": "code",
   "execution_count": 3,
   "metadata": {
    "pycharm": {
     "name": "#%%\n"
    }
   },
   "outputs": [],
   "source": [
    "class Gestore(Gestore):\n",
    "    def db_list(self):\n",
    "        print(self.client.list_database_names())\n",
    "        return self.client.list_database_names()"
   ]
  },
  {
   "cell_type": "markdown",
   "metadata": {
    "pycharm": {
     "name": "#%% md\n"
    }
   },
   "source": [
    "Metodo che si occupa di creare il database e le collezioni"
   ]
  },
  {
   "cell_type": "code",
   "execution_count": 4,
   "metadata": {
    "pycharm": {
     "name": "#%%\n"
    }
   },
   "outputs": [],
   "source": [
    "from Schema.CreateCollection import create_collection\n",
    "class Gestore(Gestore):\n",
    "    def create_db(self, db_name):\n",
    "        print(\"creazione in corso...\")\n",
    "        create_collection(db_name, self.db)\n",
    "        print(\"DB e collezioni create correttamente\")\n"
   ]
  },
  {
   "cell_type": "markdown",
   "metadata": {
    "pycharm": {
     "name": "#%% md\n"
    }
   },
   "source": [
    "Metodo che si occupa di interrogare il db.\n",
    "- query: l'informazione che vogliamo ricavare;\n",
    "- collection: nome della collezione che vogliamo interrogare;\n",
    "- oneORmany: tipo di interrogazione che vogliamo fare:\n",
    "    - 1 se vogliamo un solo record\n",
    "    - 0 se vogliamo tutti i record disponibili"
   ]
  },
  {
   "cell_type": "code",
   "execution_count": 5,
   "metadata": {
    "pycharm": {
     "name": "#%%\n"
    }
   },
   "outputs": [],
   "source": [
    "class Gestore(Gestore):\n",
    "    def findDb(self, query, collection, oneORmany):\n",
    "        print('Query:\\n', query)\n",
    "        if oneORmany:\n",
    "            results = self.db[collection].find_one(query)\n",
    "        else:\n",
    "            results = list(self.db[collection].find(query))\n",
    "\n",
    "        print('Risultati: ')\n",
    "        pprint(results)\n",
    "        print('-------------------------------------------')"
   ]
  },
  {
   "cell_type": "markdown",
   "metadata": {
    "pycharm": {
     "name": "#%% md\n"
    }
   },
   "source": [
    "Metodo che si occupa di contare i documenti presenti per una data query"
   ]
  },
  {
   "cell_type": "code",
   "execution_count": 6,
   "metadata": {
    "pycharm": {
     "name": "#%%\n"
    }
   },
   "outputs": [],
   "source": [
    "class Gestore(Gestore):\n",
    "    def find_count(self, query, collection):\n",
    "        print('Query:\\n', query)\n",
    "        results = self.db[collection].count_documents(query)\n",
    "        print('Numero di risultati: ')\n",
    "        pprint(results)\n",
    "        print('-------------------------------------------')"
   ]
  },
  {
   "cell_type": "markdown",
   "source": [
    "Metodo che si occupa di interrogare il db tramite aggregate.\n",
    "\n",
    "Prende in ingresso una pipeline contenente le varie operazioni di filtraggio che vogliamo applicare sui dati."
   ],
   "metadata": {
    "collapsed": false,
    "pycharm": {
     "name": "#%% md\n"
    }
   }
  },
  {
   "cell_type": "code",
   "execution_count": null,
   "outputs": [],
   "source": [
    "class Gestore(Gestore):\n",
    "    def db_aggregate(self, collection, pipeline):\n",
    "        print('Query:\\n', pipeline)\n",
    "        results = list(self.db[collection].aggregate(pipeline))\n",
    "        print('Risultati: ')\n",
    "        pprint(results)\n",
    "        print('-------------------------------------------')"
   ],
   "metadata": {
    "collapsed": false,
    "pycharm": {
     "name": "#%%\n"
    }
   }
  },
  {
   "cell_type": "markdown",
   "metadata": {},
   "source": [
    "Metodo per eliminare il database"
   ]
  },
  {
   "cell_type": "code",
   "execution_count": 7,
   "metadata": {
    "pycharm": {
     "name": "#%%\n"
    }
   },
   "outputs": [],
   "source": [
    "class Gestore(Gestore):\n",
    "    def delete_db(self, nomeDb):\n",
    "        if nomeDb in self.db_list():\n",
    "            self.client.drop_database(nomeDb)\n",
    "            if nomeDb not in self.db_list():\n",
    "                print(\"Database eliminato correttamente\")\n",
    "            else:\n",
    "                print(\"Qualcosa e' andato storto, riprovare\")\n",
    "        else:\n",
    "            print(\"Non esiste un db con quel nome\")\n",
    "\n",
    "\n"
   ]
  }
 ],
 "metadata": {
  "kernelspec": {
   "display_name": "Python 3",
   "language": "python",
   "name": "python3"
  },
  "language_info": {
   "codemirror_mode": {
    "name": "ipython",
    "version": 3
   },
   "file_extension": ".py",
   "mimetype": "text/x-python",
   "name": "python",
   "nbconvert_exporter": "python",
   "pygments_lexer": "ipython3",
   "version": "3.9.0"
  }
 },
 "nbformat": 4,
 "nbformat_minor": 1
}